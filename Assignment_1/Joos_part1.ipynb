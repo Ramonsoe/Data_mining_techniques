{
 "cells": [
  {
   "cell_type": "code",
   "execution_count": 47,
   "metadata": {},
   "outputs": [],
   "source": [
    "import numpy as np\n",
    "import matplotlib.pyplot as plt\n",
    "import matplotlib.gridspec as gridspec\n",
    "import pandas as pd\n",
    "\n",
    "from sklearn.neighbors import KNeighborsClassifier\n",
    "from sklearn.neural_network import MLPClassifier\n",
    "from sklearn.tree import DecisionTreeClassifier"
   ]
  },
  {
   "cell_type": "code",
   "execution_count": 3,
   "metadata": {
    "scrolled": true
   },
   "outputs": [
    {
     "name": "stdout",
     "output_type": "stream",
     "text": [
      "(313, 17)\n"
     ]
    },
    {
     "data": {
      "text/html": [
       "<div>\n",
       "<style scoped>\n",
       "    .dataframe tbody tr th:only-of-type {\n",
       "        vertical-align: middle;\n",
       "    }\n",
       "\n",
       "    .dataframe tbody tr th {\n",
       "        vertical-align: top;\n",
       "    }\n",
       "\n",
       "    .dataframe thead th {\n",
       "        text-align: right;\n",
       "    }\n",
       "</style>\n",
       "<table border=\"1\" class=\"dataframe\">\n",
       "  <thead>\n",
       "    <tr style=\"text-align: right;\">\n",
       "      <th></th>\n",
       "      <th>Timestamp</th>\n",
       "      <th>What programme are you in?</th>\n",
       "      <th>Have you taken a course on machine learning?</th>\n",
       "      <th>Have you taken a course on information retrieval?</th>\n",
       "      <th>Have you taken a course on statistics?</th>\n",
       "      <th>Have you taken a course on databases?</th>\n",
       "      <th>What is your gender?</th>\n",
       "      <th>Chocolate makes you.....</th>\n",
       "      <th>When is your birthday (date)?</th>\n",
       "      <th>Number of neighbors sitting around you?</th>\n",
       "      <th>Did you stand up?</th>\n",
       "      <th>What is your stress level (0-100)?</th>\n",
       "      <th>You can get 100 euros if you win a local DM competition, or we don’t hold any competitions and I give everyone some money (not the same amount!). How much do you think you would deserve then?</th>\n",
       "      <th>Give a random number</th>\n",
       "      <th>Time you went to be Yesterday</th>\n",
       "      <th>What makes a good day for you (1)?</th>\n",
       "      <th>What makes a good day for you (2)?</th>\n",
       "    </tr>\n",
       "  </thead>\n",
       "  <tbody>\n",
       "    <tr>\n",
       "      <th>0</th>\n",
       "      <td>3/16/2021 14:37:20</td>\n",
       "      <td>Master Tax Law - Tax and Technology</td>\n",
       "      <td>yes</td>\n",
       "      <td>0</td>\n",
       "      <td>mu</td>\n",
       "      <td>ja</td>\n",
       "      <td>male</td>\n",
       "      <td>neither</td>\n",
       "      <td>july 6</td>\n",
       "      <td>2</td>\n",
       "      <td>no</td>\n",
       "      <td>85</td>\n",
       "      <td>50</td>\n",
       "      <td>8</td>\n",
       "      <td>22.15</td>\n",
       "      <td>Having completed a set task.</td>\n",
       "      <td>Happy people</td>\n",
       "    </tr>\n",
       "    <tr>\n",
       "      <th>1</th>\n",
       "      <td>3/24/2021 17:28:48</td>\n",
       "      <td>AI</td>\n",
       "      <td>no</td>\n",
       "      <td>0</td>\n",
       "      <td>sigma</td>\n",
       "      <td>nee</td>\n",
       "      <td>male</td>\n",
       "      <td>I have no idea what you are talking about</td>\n",
       "      <td>December 7</td>\n",
       "      <td>0</td>\n",
       "      <td>no</td>\n",
       "      <td>0</td>\n",
       "      <td>100</td>\n",
       "      <td>3</td>\n",
       "      <td>10</td>\n",
       "      <td>Coffee</td>\n",
       "      <td>Sun</td>\n",
       "    </tr>\n",
       "    <tr>\n",
       "      <th>2</th>\n",
       "      <td>3/25/2021 12:31:29</td>\n",
       "      <td>DMT</td>\n",
       "      <td>no</td>\n",
       "      <td>0</td>\n",
       "      <td>mu</td>\n",
       "      <td>nee</td>\n",
       "      <td>male</td>\n",
       "      <td>fat</td>\n",
       "      <td>23 September 1997</td>\n",
       "      <td>4</td>\n",
       "      <td>no</td>\n",
       "      <td>40</td>\n",
       "      <td>5</td>\n",
       "      <td>33</td>\n",
       "      <td>00:00</td>\n",
       "      <td>Be Happy</td>\n",
       "      <td>Having a very productive day</td>\n",
       "    </tr>\n",
       "    <tr>\n",
       "      <th>3</th>\n",
       "      <td>3/25/2021 15:56:30</td>\n",
       "      <td>CS</td>\n",
       "      <td>no</td>\n",
       "      <td>1</td>\n",
       "      <td>mu</td>\n",
       "      <td>ja</td>\n",
       "      <td>male</td>\n",
       "      <td>I have no idea what you are talking about</td>\n",
       "      <td>30-07-1999</td>\n",
       "      <td>NaN</td>\n",
       "      <td>no</td>\n",
       "      <td>42</td>\n",
       "      <td>5</td>\n",
       "      <td>2147483648</td>\n",
       "      <td>?</td>\n",
       "      <td>If you give me a 10</td>\n",
       "      <td>If you give my team a 10</td>\n",
       "    </tr>\n",
       "    <tr>\n",
       "      <th>4</th>\n",
       "      <td>3/25/2021 17:41:04</td>\n",
       "      <td>AI</td>\n",
       "      <td>yes</td>\n",
       "      <td>0</td>\n",
       "      <td>mu</td>\n",
       "      <td>ja</td>\n",
       "      <td>female</td>\n",
       "      <td>neither</td>\n",
       "      <td>08.03.1998</td>\n",
       "      <td>1</td>\n",
       "      <td>no</td>\n",
       "      <td>20</td>\n",
       "      <td>50</td>\n",
       "      <td>4</td>\n",
       "      <td>2</td>\n",
       "      <td>nice weather</td>\n",
       "      <td>having good food</td>\n",
       "    </tr>\n",
       "  </tbody>\n",
       "</table>\n",
       "</div>"
      ],
      "text/plain": [
       "            Timestamp           What programme are you in?  \\\n",
       "0  3/16/2021 14:37:20  Master Tax Law - Tax and Technology   \n",
       "1  3/24/2021 17:28:48                                   AI   \n",
       "2  3/25/2021 12:31:29                                  DMT   \n",
       "3  3/25/2021 15:56:30                                   CS   \n",
       "4  3/25/2021 17:41:04                                   AI   \n",
       "\n",
       "  Have you taken a course on machine learning?  \\\n",
       "0                                          yes   \n",
       "1                                           no   \n",
       "2                                           no   \n",
       "3                                           no   \n",
       "4                                          yes   \n",
       "\n",
       "  Have you taken a course on information retrieval?  \\\n",
       "0                                                 0   \n",
       "1                                                 0   \n",
       "2                                                 0   \n",
       "3                                                 1   \n",
       "4                                                 0   \n",
       "\n",
       "  Have you taken a course on statistics?  \\\n",
       "0                                     mu   \n",
       "1                                  sigma   \n",
       "2                                     mu   \n",
       "3                                     mu   \n",
       "4                                     mu   \n",
       "\n",
       "  Have you taken a course on databases? What is your gender?  \\\n",
       "0                                    ja                 male   \n",
       "1                                   nee                 male   \n",
       "2                                   nee                 male   \n",
       "3                                    ja                 male   \n",
       "4                                    ja               female   \n",
       "\n",
       "                    Chocolate makes you..... When is your birthday (date)?  \\\n",
       "0                                    neither                        july 6   \n",
       "1  I have no idea what you are talking about                    December 7   \n",
       "2                                        fat             23 September 1997   \n",
       "3  I have no idea what you are talking about                    30-07-1999   \n",
       "4                                    neither                    08.03.1998   \n",
       "\n",
       "  Number of neighbors sitting around you? Did you stand up?  \\\n",
       "0                                       2                no   \n",
       "1                                       0                no   \n",
       "2                                       4                no   \n",
       "3                                     NaN                no   \n",
       "4                                       1                no   \n",
       "\n",
       "  What is your stress level (0-100)?  \\\n",
       "0                                 85   \n",
       "1                                  0   \n",
       "2                                 40   \n",
       "3                                 42   \n",
       "4                                 20   \n",
       "\n",
       "  You can get 100 euros if you win a local DM competition, or we don’t hold any competitions and I give everyone some money (not the same amount!). How much do you think you would deserve then?   \\\n",
       "0                                                 50                                                                                                                                                 \n",
       "1                                                100                                                                                                                                                 \n",
       "2                                                  5                                                                                                                                                 \n",
       "3                                                  5                                                                                                                                                 \n",
       "4                                                 50                                                                                                                                                 \n",
       "\n",
       "  Give a random number Time you went to be Yesterday  \\\n",
       "0                    8                         22.15   \n",
       "1                    3                            10   \n",
       "2                   33                         00:00   \n",
       "3           2147483648                             ?   \n",
       "4                    4                             2   \n",
       "\n",
       "  What makes a good day for you (1)? What makes a good day for you (2)?  \n",
       "0       Having completed a set task.                       Happy people  \n",
       "1                             Coffee                                Sun  \n",
       "2                           Be Happy       Having a very productive day  \n",
       "3                If you give me a 10           If you give my team a 10  \n",
       "4                       nice weather                   having good food  "
      ]
     },
     "execution_count": 3,
     "metadata": {},
     "output_type": "execute_result"
    }
   ],
   "source": [
    "df = pd.read_csv('ODI-2021.csv')\n",
    "print(df.shape)\n",
    "df.head()"
   ]
  },
  {
   "cell_type": "code",
   "execution_count": 4,
   "metadata": {},
   "outputs": [
    {
     "data": {
      "text/plain": [
       "<matplotlib.legend.Legend at 0x182bb763668>"
      ]
     },
     "execution_count": 4,
     "metadata": {},
     "output_type": "execute_result"
    },
    {
     "data": {
      "text/plain": [
       "<Figure size 360x216 with 0 Axes>"
      ]
     },
     "metadata": {},
     "output_type": "display_data"
    },
    {
     "data": {
      "image/png": "[encoded data removed]",
      "text/plain": [
       "<Figure size 720x360 with 2 Axes>"
      ]
     },
     "metadata": {
      "needs_background": "light"
     },
     "output_type": "display_data"
    }
   ],
   "source": [
    "fig = plt.figure(figsize=(5,3))\n",
    "\n",
    "all_ML_answ = df['Have you taken a course on machine learning?']\n",
    "all_ML_rate = np.zeros(len(all_ML_answ))\n",
    "\n",
    "men_ML_answ = df.loc[df['What is your gender?']=='male', \n",
    "                          'Have you taken a course on machine learning?']\n",
    "men_ML_rate = np.zeros(len(men_ML_answ))\n",
    "\n",
    "fem_ML_answ = df.loc[df['What is your gender?']=='female', \n",
    "                          'Have you taken a course on machine learning?']\n",
    "fem_ML_rate = np.zeros(len(fem_ML_answ))\n",
    "\n",
    "unk_ML_answ = df.loc[df['What is your gender?']=='unknown', \n",
    "                          'Have you taken a course on machine learning?']\n",
    "unk_ML_rate = np.zeros(len(unk_ML_answ))\n",
    "\n",
    "for i,v in enumerate(all_ML_answ):\n",
    "    if v=='yes':\n",
    "        all_ML_rate[i] = 1\n",
    "\n",
    "for i,v in enumerate(men_ML_answ):\n",
    "    if v=='yes':\n",
    "        men_ML_rate[i] = 1\n",
    "        \n",
    "for i,v in enumerate(fem_ML_answ):\n",
    "    if v=='yes':\n",
    "        fem_ML_rate[i] = 1\n",
    "        \n",
    "for i,v in enumerate(unk_ML_answ):\n",
    "    if v=='yes':\n",
    "        unk_ML_rate[i] = 1\n",
    "\n",
    "labels = ['Gender']\n",
    "x = np.arange(len(labels))  # the label locations\n",
    "width = 0.35  # the width of the bars\n",
    "\n",
    "fig = plt.figure(figsize=(10,5))\n",
    "grid = gridspec.GridSpec(1,3)\n",
    "\n",
    "sub1 = plt.subplot(grid[0,0])\n",
    "sub1.set_title('Gender division')\n",
    "\n",
    "rects1 = sub1.bar(x - width/3, len(men_ML_rate)/len(all_ML_rate),\n",
    "                  width/3, label='Men')\n",
    "rects2 = sub1.bar(x, len(fem_ML_rate)/len(all_ML_rate), \n",
    "                  width/3, label='Women')\n",
    "rects3 = sub1.bar(x + width/3, len(unk_ML_rate)/len(all_ML_rate), \n",
    "                  width/3, label='Unknown')\n",
    "sub1.legend()\n",
    "\n",
    "width=0.2\n",
    "\n",
    "labels = ['ML', 'No ML']\n",
    "labels = ['All', 'Men', 'Women', 'Unkown']\n",
    "x = np.arange(len(labels))  # the label locations\n",
    "\n",
    "sub2 = plt.subplot(grid[0,1:])\n",
    "sub2.set_title('ML background')\n",
    "    \n",
    "all_genders = [all_ML_rate, men_ML_rate, fem_ML_rate, men_ML_rate]\n",
    "    \n",
    "per_gender1 = np.array([sum(gender)/len(gender) for gender in all_genders])\n",
    "per_gender2 = 1 - per_gender1\n",
    "sub2.bar(x - width/2, per_gender1, width, label='Background in ML')\n",
    "sub2.bar(x + width/2, per_gender2, width, label='No background in ML')\n",
    "sub2.set_xticks(x)\n",
    "sub2.set_xticklabels(labels)\n",
    "sub2.legend()"
   ]
  },
  {
   "cell_type": "markdown",
   "metadata": {},
   "source": [
    "### Regression"
   ]
  },
  {
   "cell_type": "code",
   "execution_count": 51,
   "metadata": {},
   "outputs": [
    {
     "name": "stderr",
     "output_type": "stream",
     "text": [
      "c:\\users\\juliu\\appdata\\local\\programs\\python\\python37\\lib\\site-packages\\ipykernel_launcher.py:26: UserWarning: Boolean Series key will be reindexed to match DataFrame index.\n"
     ]
    },
    {
     "name": "stdout",
     "output_type": "stream",
     "text": [
      "(267, 17)\n",
      "KNN predicts 0.6896551724137931% correctly\n",
      "NN predicts 0.6896551724137931% correctly\n",
      "Decision Tree predicts 0.6206896551724138% correctly\n"
     ]
    },
    {
     "name": "stderr",
     "output_type": "stream",
     "text": [
      "c:\\users\\juliu\\appdata\\local\\programs\\python\\python37\\lib\\site-packages\\sklearn\\neural_network\\multilayer_perceptron.py:566: ConvergenceWarning: Stochastic Optimizer: Maximum iterations (200) reached and the optimization hasn't converged yet.\n",
      "  % self.max_iter, ConvergenceWarning)\n"
     ]
    },
    {
     "data": {
      "text/plain": [
       "(0.6896551724137931, 0.6896551724137931, 0.6206896551724138)"
      ]
     },
     "execution_count": 51,
     "metadata": {},
     "output_type": "execute_result"
    }
   ],
   "source": [
    "# Predict gender based on the following attributes:\n",
    "# attributes = ['Have you taken a course on machine learning?',\n",
    "#               'Have you taken a course on information retrieval?',\n",
    "#               'Have you taken a course on statistics?',\n",
    "#               'Have you taken a course on databases?',\n",
    "#               'What is your stress level (0-100)?']\n",
    "\n",
    "attributes = ['Have you taken a course on machine learning?',\n",
    "              'Have you taken a course on statistics?',\n",
    "              'Have you taken a course on databases?',\n",
    "              'Have you taken a course on information retrieval?']\n",
    "\n",
    "label = 'What is your gender?'\n",
    "\n",
    "def run_ML_classification(attributes, label):\n",
    "    \n",
    "    # Only select students for which the gender is either male or female\n",
    "    df_bin = df.loc[df['What is your gender?'] != 'unknown']\n",
    "\n",
    "    # Create binary variables:\n",
    "    df_bin = df_bin.replace(['yes','no','mu','sigma','ja','nee','male','female'], \n",
    "                            [1, 0, 1, 0, 1, 0, 1,0])\n",
    "\n",
    "    # Delete rows that contain 'unknown'\n",
    "    for attr in attributes:\n",
    "        df_bin = df_bin[df[attr] != 'unknown']\n",
    "\n",
    "    print(df_bin.shape)\n",
    "\n",
    "    # Create training and test sets\n",
    "    df_attr = df_bin[attributes]\n",
    "    df_labl = df_bin[label]\n",
    "\n",
    "\n",
    "    df_attr_train = df_attr[:180]\n",
    "    df_attr_test  = df_attr[180:]\n",
    "\n",
    "    df_labl_train = df_labl[:180]\n",
    "    df_labl_test  = df_labl[180:]\n",
    "\n",
    "    # Train ML algorithms\n",
    "    knn = KNeighborsClassifier()\n",
    "    knn.fit(df_attr_train, df_labl_train)\n",
    "    knn_pred = knn.score(df_attr_test, df_labl_test)\n",
    "    print(f'KNN predicts {knn_pred}% correctly')\n",
    "\n",
    "    nn = MLPClassifier()\n",
    "    nn.fit(df_attr_train, df_labl_train)\n",
    "    nn_pred = nn.score(df_attr_test, df_labl_test)\n",
    "    print(f'NN predicts {nn_pred}% correctly')\n",
    "\n",
    "    dt = DecisionTreeClassifier()\n",
    "    dt.fit(df_attr_train, df_labl_train)\n",
    "    dt_pred = dt.score(df_attr_test, df_labl_test)\n",
    "    print(f'Decision Tree predicts {dt_pred}% correctly')\n",
    "    \n",
    "    return knn_pred, nn_pred, dt_pred\n",
    "\n",
    "run_ML_classification(attributes, label)"
   ]
  },
  {
   "cell_type": "code",
   "execution_count": 68,
   "metadata": {},
   "outputs": [
    {
     "name": "stderr",
     "output_type": "stream",
     "text": [
      "c:\\users\\juliu\\appdata\\local\\programs\\python\\python37\\lib\\site-packages\\ipykernel_launcher.py:26: UserWarning: Boolean Series key will be reindexed to match DataFrame index.\n",
      "c:\\users\\juliu\\appdata\\local\\programs\\python\\python37\\lib\\site-packages\\ipykernel_launcher.py:26: UserWarning: Boolean Series key will be reindexed to match DataFrame index.\n",
      "c:\\users\\juliu\\appdata\\local\\programs\\python\\python37\\lib\\site-packages\\ipykernel_launcher.py:26: UserWarning: Boolean Series key will be reindexed to match DataFrame index.\n"
     ]
    },
    {
     "name": "stdout",
     "output_type": "stream",
     "text": [
      "(305, 17)\n",
      "KNN predicts 0.672% correctly\n",
      "NN predicts 0.672% correctly\n",
      "Decision Tree predicts 0.672% correctly\n",
      "(289, 17)\n",
      "KNN predicts 0.6880733944954128% correctly\n",
      "NN predicts 0.6880733944954128% correctly\n",
      "Decision Tree predicts 0.6880733944954128% correctly\n",
      "(282, 17)\n",
      "KNN predicts 0.5784313725490197% correctly\n",
      "NN predicts 0.6764705882352942% correctly\n",
      "Decision Tree predicts 0.6568627450980392% correctly\n",
      "(267, 17)\n",
      "KNN predicts 0.6896551724137931% correctly\n"
     ]
    },
    {
     "name": "stderr",
     "output_type": "stream",
     "text": [
      "c:\\users\\juliu\\appdata\\local\\programs\\python\\python37\\lib\\site-packages\\ipykernel_launcher.py:26: UserWarning: Boolean Series key will be reindexed to match DataFrame index.\n",
      "c:\\users\\juliu\\appdata\\local\\programs\\python\\python37\\lib\\site-packages\\sklearn\\neural_network\\multilayer_perceptron.py:566: ConvergenceWarning: Stochastic Optimizer: Maximum iterations (200) reached and the optimization hasn't converged yet.\n",
      "  % self.max_iter, ConvergenceWarning)\n",
      "c:\\users\\juliu\\appdata\\local\\programs\\python\\python37\\lib\\site-packages\\ipykernel_launcher.py:26: UserWarning: Boolean Series key will be reindexed to match DataFrame index.\n"
     ]
    },
    {
     "name": "stdout",
     "output_type": "stream",
     "text": [
      "NN predicts 0.6896551724137931% correctly\n",
      "Decision Tree predicts 0.6206896551724138% correctly\n",
      "(267, 17)\n",
      "KNN predicts 0.6896551724137931% correctly\n",
      "NN predicts 0.6896551724137931% correctly\n",
      "Decision Tree predicts 0.6206896551724138% correctly\n"
     ]
    },
    {
     "name": "stderr",
     "output_type": "stream",
     "text": [
      "c:\\users\\juliu\\appdata\\local\\programs\\python\\python37\\lib\\site-packages\\sklearn\\neural_network\\multilayer_perceptron.py:566: ConvergenceWarning: Stochastic Optimizer: Maximum iterations (200) reached and the optimization hasn't converged yet.\n",
      "  % self.max_iter, ConvergenceWarning)\n"
     ]
    },
    {
     "data": {
      "image/png": "[encoded data removed]",
      "text/plain": [
       "<Figure size 360x216 with 1 Axes>"
      ]
     },
     "metadata": {
      "needs_background": "light"
     },
     "output_type": "display_data"
    }
   ],
   "source": [
    "# Give algorithms increasing amounts of attributes\n",
    "all_res = []\n",
    "for i in range(1,6):\n",
    "    res = run_ML_classification(attributes[:i], label)\n",
    "    all_res += [res]\n",
    "\n",
    "courses = ['ML', 'Stats', 'DB', 'IR']    \n",
    "\n",
    "fig = plt.figure(figsize=(5,3))\n",
    "\n",
    "for j in range(3):\n",
    "    plt.plot(range(1,5), [all_res[k][j] for k in range(4)])\n",
    "\n",
    "plt.xticks(range(1,5),courses)\n",
    "plt.ylabel('Fraction correctly predicted')\n",
    "plt.xlabel('Extra Course')\n",
    "plt.show()\n",
    "    "
   ]
  },
  {
   "cell_type": "code",
   "execution_count": null,
   "metadata": {},
   "outputs": [],
   "source": []
  }
 ],
 "metadata": {
  "kernelspec": {
   "display_name": "Python 3",
   "language": "python",
   "name": "python3"
  },
  "language_info": {
   "codemirror_mode": {
    "name": "ipython",
    "version": 3
   },
   "file_extension": ".py",
   "mimetype": "text/x-python",
   "name": "python",
   "nbconvert_exporter": "python",
   "pygments_lexer": "ipython3",
   "version": "3.7.3"
  }
 },
 "nbformat": 4,
 "nbformat_minor": 2
}
